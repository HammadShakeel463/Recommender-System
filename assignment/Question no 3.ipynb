{
  "cells": [
    {
      "cell_type": "code",
      "execution_count": 1,
      "id": "c1c78c7e",
      "metadata": {
        "id": "c1c78c7e"
      },
      "outputs": [],
      "source": [
        "import pandas as pd\n",
        "import numpy as np"
      ]
    },
    {
      "cell_type": "code",
      "execution_count": 2,
      "id": "924e4e39",
      "metadata": {
        "scrolled": true,
        "id": "924e4e39"
      },
      "outputs": [],
      "source": [
        "matrix = pd.DataFrame({'Item 1': [5, 4, 5, 1], 'Item 2': [3, 2, 'NaN', 5], 'Item 3': [3, 3, 4, 4], 'Item 4': ['NaN', 3, 2, 3]}, index=['User 1', 'User 2', 'User 3', 'User 4'])"
      ]
    },
    {
      "cell_type": "code",
      "execution_count": 3,
      "id": "71ba2947",
      "metadata": {
        "scrolled": true,
        "colab": {
          "base_uri": "https://localhost:8080/",
          "height": 175
        },
        "id": "71ba2947",
        "outputId": "e4231e7a-f746-4518-ddc2-6544e935f297"
      },
      "outputs": [
        {
          "output_type": "execute_result",
          "data": {
            "text/plain": [
              "        Item 1 Item 2  Item 3 Item 4\n",
              "User 1       5      3       3    NaN\n",
              "User 2       4      2       3      3\n",
              "User 3       5    NaN       4      2\n",
              "User 4       1      5       4      3"
            ],
            "text/html": [
              "\n",
              "  <div id=\"df-fccdb984-4570-436a-9b53-18e763bf743f\" class=\"colab-df-container\">\n",
              "    <div>\n",
              "<style scoped>\n",
              "    .dataframe tbody tr th:only-of-type {\n",
              "        vertical-align: middle;\n",
              "    }\n",
              "\n",
              "    .dataframe tbody tr th {\n",
              "        vertical-align: top;\n",
              "    }\n",
              "\n",
              "    .dataframe thead th {\n",
              "        text-align: right;\n",
              "    }\n",
              "</style>\n",
              "<table border=\"1\" class=\"dataframe\">\n",
              "  <thead>\n",
              "    <tr style=\"text-align: right;\">\n",
              "      <th></th>\n",
              "      <th>Item 1</th>\n",
              "      <th>Item 2</th>\n",
              "      <th>Item 3</th>\n",
              "      <th>Item 4</th>\n",
              "    </tr>\n",
              "  </thead>\n",
              "  <tbody>\n",
              "    <tr>\n",
              "      <th>User 1</th>\n",
              "      <td>5</td>\n",
              "      <td>3</td>\n",
              "      <td>3</td>\n",
              "      <td>NaN</td>\n",
              "    </tr>\n",
              "    <tr>\n",
              "      <th>User 2</th>\n",
              "      <td>4</td>\n",
              "      <td>2</td>\n",
              "      <td>3</td>\n",
              "      <td>3</td>\n",
              "    </tr>\n",
              "    <tr>\n",
              "      <th>User 3</th>\n",
              "      <td>5</td>\n",
              "      <td>NaN</td>\n",
              "      <td>4</td>\n",
              "      <td>2</td>\n",
              "    </tr>\n",
              "    <tr>\n",
              "      <th>User 4</th>\n",
              "      <td>1</td>\n",
              "      <td>5</td>\n",
              "      <td>4</td>\n",
              "      <td>3</td>\n",
              "    </tr>\n",
              "  </tbody>\n",
              "</table>\n",
              "</div>\n",
              "    <div class=\"colab-df-buttons\">\n",
              "\n",
              "  <div class=\"colab-df-container\">\n",
              "    <button class=\"colab-df-convert\" onclick=\"convertToInteractive('df-fccdb984-4570-436a-9b53-18e763bf743f')\"\n",
              "            title=\"Convert this dataframe to an interactive table.\"\n",
              "            style=\"display:none;\">\n",
              "\n",
              "  <svg xmlns=\"http://www.w3.org/2000/svg\" height=\"24px\" viewBox=\"0 -960 960 960\">\n",
              "    <path d=\"M120-120v-720h720v720H120Zm60-500h600v-160H180v160Zm220 220h160v-160H400v160Zm0 220h160v-160H400v160ZM180-400h160v-160H180v160Zm440 0h160v-160H620v160ZM180-180h160v-160H180v160Zm440 0h160v-160H620v160Z\"/>\n",
              "  </svg>\n",
              "    </button>\n",
              "\n",
              "  <style>\n",
              "    .colab-df-container {\n",
              "      display:flex;\n",
              "      gap: 12px;\n",
              "    }\n",
              "\n",
              "    .colab-df-convert {\n",
              "      background-color: #E8F0FE;\n",
              "      border: none;\n",
              "      border-radius: 50%;\n",
              "      cursor: pointer;\n",
              "      display: none;\n",
              "      fill: #1967D2;\n",
              "      height: 32px;\n",
              "      padding: 0 0 0 0;\n",
              "      width: 32px;\n",
              "    }\n",
              "\n",
              "    .colab-df-convert:hover {\n",
              "      background-color: #E2EBFA;\n",
              "      box-shadow: 0px 1px 2px rgba(60, 64, 67, 0.3), 0px 1px 3px 1px rgba(60, 64, 67, 0.15);\n",
              "      fill: #174EA6;\n",
              "    }\n",
              "\n",
              "    .colab-df-buttons div {\n",
              "      margin-bottom: 4px;\n",
              "    }\n",
              "\n",
              "    [theme=dark] .colab-df-convert {\n",
              "      background-color: #3B4455;\n",
              "      fill: #D2E3FC;\n",
              "    }\n",
              "\n",
              "    [theme=dark] .colab-df-convert:hover {\n",
              "      background-color: #434B5C;\n",
              "      box-shadow: 0px 1px 3px 1px rgba(0, 0, 0, 0.15);\n",
              "      filter: drop-shadow(0px 1px 2px rgba(0, 0, 0, 0.3));\n",
              "      fill: #FFFFFF;\n",
              "    }\n",
              "  </style>\n",
              "\n",
              "    <script>\n",
              "      const buttonEl =\n",
              "        document.querySelector('#df-fccdb984-4570-436a-9b53-18e763bf743f button.colab-df-convert');\n",
              "      buttonEl.style.display =\n",
              "        google.colab.kernel.accessAllowed ? 'block' : 'none';\n",
              "\n",
              "      async function convertToInteractive(key) {\n",
              "        const element = document.querySelector('#df-fccdb984-4570-436a-9b53-18e763bf743f');\n",
              "        const dataTable =\n",
              "          await google.colab.kernel.invokeFunction('convertToInteractive',\n",
              "                                                    [key], {});\n",
              "        if (!dataTable) return;\n",
              "\n",
              "        const docLinkHtml = 'Like what you see? Visit the ' +\n",
              "          '<a target=\"_blank\" href=https://colab.research.google.com/notebooks/data_table.ipynb>data table notebook</a>'\n",
              "          + ' to learn more about interactive tables.';\n",
              "        element.innerHTML = '';\n",
              "        dataTable['output_type'] = 'display_data';\n",
              "        await google.colab.output.renderOutput(dataTable, element);\n",
              "        const docLink = document.createElement('div');\n",
              "        docLink.innerHTML = docLinkHtml;\n",
              "        element.appendChild(docLink);\n",
              "      }\n",
              "    </script>\n",
              "  </div>\n",
              "\n",
              "\n",
              "<div id=\"df-9cd87602-03eb-4150-9ecb-5fb94ccbc3b9\">\n",
              "  <button class=\"colab-df-quickchart\" onclick=\"quickchart('df-9cd87602-03eb-4150-9ecb-5fb94ccbc3b9')\"\n",
              "            title=\"Suggest charts.\"\n",
              "            style=\"display:none;\">\n",
              "\n",
              "<svg xmlns=\"http://www.w3.org/2000/svg\" height=\"24px\"viewBox=\"0 0 24 24\"\n",
              "     width=\"24px\">\n",
              "    <g>\n",
              "        <path d=\"M19 3H5c-1.1 0-2 .9-2 2v14c0 1.1.9 2 2 2h14c1.1 0 2-.9 2-2V5c0-1.1-.9-2-2-2zM9 17H7v-7h2v7zm4 0h-2V7h2v10zm4 0h-2v-4h2v4z\"/>\n",
              "    </g>\n",
              "</svg>\n",
              "  </button>\n",
              "\n",
              "<style>\n",
              "  .colab-df-quickchart {\n",
              "      --bg-color: #E8F0FE;\n",
              "      --fill-color: #1967D2;\n",
              "      --hover-bg-color: #E2EBFA;\n",
              "      --hover-fill-color: #174EA6;\n",
              "      --disabled-fill-color: #AAA;\n",
              "      --disabled-bg-color: #DDD;\n",
              "  }\n",
              "\n",
              "  [theme=dark] .colab-df-quickchart {\n",
              "      --bg-color: #3B4455;\n",
              "      --fill-color: #D2E3FC;\n",
              "      --hover-bg-color: #434B5C;\n",
              "      --hover-fill-color: #FFFFFF;\n",
              "      --disabled-bg-color: #3B4455;\n",
              "      --disabled-fill-color: #666;\n",
              "  }\n",
              "\n",
              "  .colab-df-quickchart {\n",
              "    background-color: var(--bg-color);\n",
              "    border: none;\n",
              "    border-radius: 50%;\n",
              "    cursor: pointer;\n",
              "    display: none;\n",
              "    fill: var(--fill-color);\n",
              "    height: 32px;\n",
              "    padding: 0;\n",
              "    width: 32px;\n",
              "  }\n",
              "\n",
              "  .colab-df-quickchart:hover {\n",
              "    background-color: var(--hover-bg-color);\n",
              "    box-shadow: 0 1px 2px rgba(60, 64, 67, 0.3), 0 1px 3px 1px rgba(60, 64, 67, 0.15);\n",
              "    fill: var(--button-hover-fill-color);\n",
              "  }\n",
              "\n",
              "  .colab-df-quickchart-complete:disabled,\n",
              "  .colab-df-quickchart-complete:disabled:hover {\n",
              "    background-color: var(--disabled-bg-color);\n",
              "    fill: var(--disabled-fill-color);\n",
              "    box-shadow: none;\n",
              "  }\n",
              "\n",
              "  .colab-df-spinner {\n",
              "    border: 2px solid var(--fill-color);\n",
              "    border-color: transparent;\n",
              "    border-bottom-color: var(--fill-color);\n",
              "    animation:\n",
              "      spin 1s steps(1) infinite;\n",
              "  }\n",
              "\n",
              "  @keyframes spin {\n",
              "    0% {\n",
              "      border-color: transparent;\n",
              "      border-bottom-color: var(--fill-color);\n",
              "      border-left-color: var(--fill-color);\n",
              "    }\n",
              "    20% {\n",
              "      border-color: transparent;\n",
              "      border-left-color: var(--fill-color);\n",
              "      border-top-color: var(--fill-color);\n",
              "    }\n",
              "    30% {\n",
              "      border-color: transparent;\n",
              "      border-left-color: var(--fill-color);\n",
              "      border-top-color: var(--fill-color);\n",
              "      border-right-color: var(--fill-color);\n",
              "    }\n",
              "    40% {\n",
              "      border-color: transparent;\n",
              "      border-right-color: var(--fill-color);\n",
              "      border-top-color: var(--fill-color);\n",
              "    }\n",
              "    60% {\n",
              "      border-color: transparent;\n",
              "      border-right-color: var(--fill-color);\n",
              "    }\n",
              "    80% {\n",
              "      border-color: transparent;\n",
              "      border-right-color: var(--fill-color);\n",
              "      border-bottom-color: var(--fill-color);\n",
              "    }\n",
              "    90% {\n",
              "      border-color: transparent;\n",
              "      border-bottom-color: var(--fill-color);\n",
              "    }\n",
              "  }\n",
              "</style>\n",
              "\n",
              "  <script>\n",
              "    async function quickchart(key) {\n",
              "      const quickchartButtonEl =\n",
              "        document.querySelector('#' + key + ' button');\n",
              "      quickchartButtonEl.disabled = true;  // To prevent multiple clicks.\n",
              "      quickchartButtonEl.classList.add('colab-df-spinner');\n",
              "      try {\n",
              "        const charts = await google.colab.kernel.invokeFunction(\n",
              "            'suggestCharts', [key], {});\n",
              "      } catch (error) {\n",
              "        console.error('Error during call to suggestCharts:', error);\n",
              "      }\n",
              "      quickchartButtonEl.classList.remove('colab-df-spinner');\n",
              "      quickchartButtonEl.classList.add('colab-df-quickchart-complete');\n",
              "    }\n",
              "    (() => {\n",
              "      let quickchartButtonEl =\n",
              "        document.querySelector('#df-9cd87602-03eb-4150-9ecb-5fb94ccbc3b9 button');\n",
              "      quickchartButtonEl.style.display =\n",
              "        google.colab.kernel.accessAllowed ? 'block' : 'none';\n",
              "    })();\n",
              "  </script>\n",
              "</div>\n",
              "    </div>\n",
              "  </div>\n"
            ]
          },
          "metadata": {},
          "execution_count": 3
        }
      ],
      "source": [
        "matrix.head()"
      ]
    },
    {
      "cell_type": "code",
      "execution_count": 4,
      "id": "3e8475d9",
      "metadata": {
        "id": "3e8475d9"
      },
      "outputs": [],
      "source": [
        "n_ratings = 5\n",
        "active_user = 1 # for this assignment\n",
        "active_item = 4 # for this assignment"
      ]
    },
    {
      "cell_type": "markdown",
      "id": "71e21f03",
      "metadata": {
        "id": "71e21f03"
      },
      "source": [
        "<h3 style=\"color:red\">Do not change anything in the data/code given above</h3>"
      ]
    },
    {
      "cell_type": "markdown",
      "id": "3447e866",
      "metadata": {
        "id": "3447e866"
      },
      "source": [
        "<h1> Task 1 </h1>"
      ]
    },
    {
      "cell_type": "markdown",
      "id": "22c0e931",
      "metadata": {
        "id": "22c0e931"
      },
      "source": [
        "You need to implement the following functions:"
      ]
    },
    {
      "cell_type": "code",
      "execution_count": 11,
      "id": "7c9246d1",
      "metadata": {
        "id": "7c9246d1"
      },
      "outputs": [],
      "source": [
        "def likelihood(matrix, rating_y, user_id , items ,target_item):\n",
        "    # Find all the rows in which Item 5 is rated as rating_y\n",
        "    rows_with_rating_y = matrix.index[matrix[target_item] == rating_y]\n",
        "    alpha = 0.01  # we can adjust the hyper-parameter alpha\n",
        "    R = n_ratings\n",
        "    beta = R * alpha\n",
        "    # Find all the ratings of User 1, stored in an array k\n",
        "    k = [matrix.loc[user_id, item] for item in items]\n",
        "    conditional_probs = {}\n",
        "    i = 0\n",
        "    result = 1.0\n",
        "    for item in items:\n",
        "        # Filter the dataset to consider only users who rated Item i as k and where users rated Item 5 as rating_y\n",
        "        users_with_ri_k = matrix.index[(matrix[item] == k[i]) & (matrix[target_item] == rating_y)]\n",
        "\n",
        "        # Calculate the conditional probability for each item\n",
        "        numerator = len(users_with_ri_k) + alpha\n",
        "        denominator = len(rows_with_rating_y) + beta\n",
        "        conditional_prob = numerator / denominator\n",
        "\n",
        "        result *= conditional_prob\n",
        "        i+=1\n",
        "\n",
        "    return result\n"
      ]
    },
    {
      "cell_type": "code",
      "execution_count": 6,
      "id": "ac241e10",
      "metadata": {
        "id": "ac241e10"
      },
      "outputs": [],
      "source": [
        "def prior(matrix, item_i , rating):\n",
        "    alpha = 0.01  # we can adjust the hyper-parameter alpha\n",
        "    R = n_ratings\n",
        "    beta = R * alpha\n",
        "    # Filter the dataset to get the users who rated item i as y\n",
        "    users_with_rating_y = matrix.index[matrix[item_i] == rating].tolist()\n",
        "\n",
        "    # Filter the dataset to get the users who have rated item i\n",
        "    users_with_rating_i = matrix.index[matrix[item_i] != 'NaN'].tolist()\n",
        "\n",
        "    # Calculate the prior probability\n",
        "    numerator = len(users_with_rating_y) + alpha\n",
        "    denominator = len(users_with_rating_i) + beta\n",
        "    prior_prob = numerator / denominator\n",
        "\n",
        "    return prior_prob"
      ]
    },
    {
      "cell_type": "code",
      "execution_count": 9,
      "id": "f78b75c7",
      "metadata": {
        "id": "f78b75c7"
      },
      "outputs": [],
      "source": [
        "def posterior(matrix, rating_y):\n",
        "    alpha = 0.01  # we can adjust the hyper-parameter alpha\n",
        "    R = n_ratings\n",
        "    beta = R * alpha\n",
        "    # to be implemented for Task 1\n",
        "    user_id = 'User ' + str(active_user)\n",
        "    target_item = \"Item \" + str(active_item)\n",
        "\n",
        "    # Filter the dataset for the given user and exclude 'NaN' values\n",
        "    user_data = matrix.loc[user_id]\n",
        "    items = user_data[user_data != 'NaN'].index.tolist()\n",
        "\n",
        "    like = likelihood(matrix, rating_y, user_id, items ,target_item)\n",
        "    prior_probability = prior(matrix, target_item, rating_y)\n",
        "    return like * prior_probability"
      ]
    },
    {
      "cell_type": "markdown",
      "id": "233d7b8a",
      "metadata": {
        "id": "233d7b8a"
      },
      "source": [
        "<h3 style=\"color:red\">Do not change anything beyond this point</h3>"
      ]
    },
    {
      "cell_type": "code",
      "execution_count": 14,
      "id": "c40cf9a5",
      "metadata": {
        "colab": {
          "base_uri": "https://localhost:8080/"
        },
        "id": "c40cf9a5",
        "outputId": "c613d936-644d-40c8-c753-d47fc4f0befa"
      },
      "outputs": [
        {
          "output_type": "stream",
          "name": "stdout",
          "text": [
            "Rating for User 1 and Item 4 is: 1\n"
          ]
        }
      ],
      "source": [
        "posteriors = []\n",
        "# calculating posterior for each possible rating i.e. 1, 2, 3, 4, 5\n",
        "for i in range(n_ratings):\n",
        "    posteriors.append(posterior(matrix, i+1))\n",
        "\n",
        "# selecting rating that gives us the max posterior\n",
        "rating_to_be_given = posteriors.index(max(posteriors))\n",
        "# printing final answer and verify\n",
        "print(f'Rating for User {active_user} and Item {active_item} is: {rating_to_be_given}')"
      ]
    },
    {
      "cell_type": "code",
      "source": [],
      "metadata": {
        "id": "Dff_6k74bzxF"
      },
      "id": "Dff_6k74bzxF",
      "execution_count": 171,
      "outputs": []
    },
    {
      "cell_type": "code",
      "source": [
        "\n",
        "\n"
      ],
      "metadata": {
        "id": "LBG0GaXWhUIm"
      },
      "id": "LBG0GaXWhUIm",
      "execution_count": 171,
      "outputs": []
    },
    {
      "cell_type": "code",
      "source": [],
      "metadata": {
        "id": "22CvWx3uq1_Q"
      },
      "id": "22CvWx3uq1_Q",
      "execution_count": 171,
      "outputs": []
    },
    {
      "cell_type": "code",
      "source": [],
      "metadata": {
        "id": "QUUKY8g_6ZR5"
      },
      "id": "QUUKY8g_6ZR5",
      "execution_count": 171,
      "outputs": []
    },
    {
      "cell_type": "code",
      "source": [],
      "metadata": {
        "id": "UEPTu4fuCQbJ"
      },
      "id": "UEPTu4fuCQbJ",
      "execution_count": null,
      "outputs": []
    },
    {
      "cell_type": "code",
      "source": [
        "\n"
      ],
      "metadata": {
        "id": "UlFVujmZAgvr"
      },
      "id": "UlFVujmZAgvr",
      "execution_count": 171,
      "outputs": []
    }
  ],
  "metadata": {
    "kernelspec": {
      "display_name": "Python 3 (ipykernel)",
      "language": "python",
      "name": "python3"
    },
    "language_info": {
      "codemirror_mode": {
        "name": "ipython",
        "version": 3
      },
      "file_extension": ".py",
      "mimetype": "text/x-python",
      "name": "python",
      "nbconvert_exporter": "python",
      "pygments_lexer": "ipython3",
      "version": "3.7.9"
    },
    "colab": {
      "provenance": []
    }
  },
  "nbformat": 4,
  "nbformat_minor": 5
}